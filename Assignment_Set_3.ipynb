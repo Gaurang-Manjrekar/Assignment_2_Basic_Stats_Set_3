{
 "cells": [
  {
   "cell_type": "code",
   "execution_count": 1,
   "id": "4b0c94e7-5d8c-496d-842c-b6d7cf9cd809",
   "metadata": {},
   "outputs": [],
   "source": [
    "import pandas as pd\n",
    "import numpy as np\n",
    "import matplotlib.pyplot as plt\n",
    "import scipy.stats as stats\n",
    "import seaborn as sns\n",
    "import statsmodels.api as smf\n",
    "import warnings\n",
    "warnings.filterwarnings('ignore')"
   ]
  },
  {
   "cell_type": "markdown",
   "id": "4b61b3f1-2e00-41df-b608-4c553759b0db",
   "metadata": {
    "tags": []
   },
   "source": [
    "# Set 3 "
   ]
  },
  {
   "cell_type": "markdown",
   "id": "8f1f2aae-e988-41f2-ba7a-664818569558",
   "metadata": {},
   "source": [
    "### Question 5"
   ]
  },
  {
   "cell_type": "markdown",
   "id": "d3ae2512-8cf6-49f3-a033-d6bd129c0ca3",
   "metadata": {},
   "source": [
    "In January 2005, a company that monitors Internet traffic (WebSideStory) reported that its sampling revealed that the Mozilla Firefox browser launched in 2004 had grabbed a 4.6% share of the market.\n",
    "\n",
    "If the sample were based on 2,000 users, could Microsoft conclude that Mozilla has a less than 5% share of the market?"
   ]
  },
  {
   "cell_type": "code",
   "execution_count": 3,
   "id": "753e9883-8ef2-4352-b92e-4c6ad9079120",
   "metadata": {
    "jp-MarkdownHeadingCollapsed": true,
    "tags": []
   },
   "outputs": [
    {
     "data": {
      "text/plain": [
       "0.206"
      ]
     },
     "execution_count": 3,
     "metadata": {},
     "output_type": "execute_result"
    }
   ],
   "source": [
    "p_hat = .046\n",
    "p = .05\n",
    "n = 2000\n",
    "\n",
    "# z_score = p_hat-p/(p(1-p)/n)**0.5\n",
    "z_score = (p_hat-p)/(np.sqrt((p*(1-p))/n))\n",
    "z_score\n",
    "\n",
    "p_value = np.round(stats.norm.sf(0.821),3)\n",
    "p_value"
   ]
  },
  {
   "cell_type": "markdown",
   "id": "32be62b2-768f-4cfd-9211-5b7f4b0f530f",
   "metadata": {},
   "source": [
    "Find Probability assuming null hyposthesis, so as to compare with Type-1 error α = 0.05\n",
    "\n",
    "null_hypothesis >= 5%\n",
    "\n",
    "alternate hypothesis < 5%"
   ]
  },
  {
   "cell_type": "code",
   "execution_count": 5,
   "id": "0924e052-e94e-4dd3-bf69-12991e169f07",
   "metadata": {},
   "outputs": [
    {
     "name": "stdout",
     "output_type": "stream",
     "text": [
      "No: Microsoft could not conclude that Mozilla has a less than 5% share of the market even if the sample were based on 2,000 users\n"
     ]
    }
   ],
   "source": [
    "if p_value>0.05:\n",
    "    print(\"No: Microsoft could not conclude that Mozilla has a less than 5% share of the market even if the sample were based on 2,000 users\")\n",
    "else:\n",
    "    print(\"Yes\")"
   ]
  }
 ],
 "metadata": {
  "kernelspec": {
   "display_name": "Python 3 (ipykernel)",
   "language": "python",
   "name": "python3"
  },
  "language_info": {
   "codemirror_mode": {
    "name": "ipython",
    "version": 3
   },
   "file_extension": ".py",
   "mimetype": "text/x-python",
   "name": "python",
   "nbconvert_exporter": "python",
   "pygments_lexer": "ipython3",
   "version": "3.9.12"
  }
 },
 "nbformat": 4,
 "nbformat_minor": 5
}
